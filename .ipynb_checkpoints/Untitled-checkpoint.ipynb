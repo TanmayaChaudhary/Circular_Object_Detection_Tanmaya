{
 "cells": [
  {
   "cell_type": "code",
   "execution_count": null,
   "metadata": {},
   "outputs": [],
   "source": [
    "import cv2\n",
    "import numpy as np\n",
    "import sys\n",
    "cap = cv2.VideoCapture(0)\n",
    "while(True):\n",
    "    gray = cv2.medianBlur(cv2.cvtColor(cap.read()[1], cv2.COLOR_BGR2GRAY),5)\n",
    "    cirles=cv2.HoughCircles(gray, cv2.HOUGH_GRADIENT, 1.2, 100)# ret=[[Xpos,Ypos,Radius],...]\n",
    "    if cirles!=None:a.all(print(\"Circle There !\"))\n",
    "    cv2.imshow('video',gray)\n",
    "    if cv2.waitKey(1)==27:# esc Key\n",
    "        break\n",
    "cap.release()\n",
    "cv2.destroyAllWindows()"
   ]
  }
 ],
 "metadata": {
  "kernelspec": {
   "display_name": "Python 3",
   "language": "python",
   "name": "python3"
  },
  "language_info": {
   "codemirror_mode": {
    "name": "ipython",
    "version": 3
   },
   "file_extension": ".py",
   "mimetype": "text/x-python",
   "name": "python",
   "nbconvert_exporter": "python",
   "pygments_lexer": "ipython3",
   "version": "3.6.7"
  }
 },
 "nbformat": 4,
 "nbformat_minor": 2
}
